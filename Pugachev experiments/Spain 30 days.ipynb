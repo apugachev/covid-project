{
 "cells": [
  {
   "cell_type": "code",
   "execution_count": 1,
   "metadata": {},
   "outputs": [],
   "source": [
    "import math\n",
    "import numpy as np, matplotlib.pyplot as plt\n",
    "from scipy.integrate import odeint\n",
    "import sys\n",
    "\n",
    "try:\n",
    "    from tqdm.notebook import tqdm\n",
    "except Exception:\n",
    "    print('For a nice progress bar install tqdm (pip3 install tqdm)', file=sys.stderr)\n",
    "    def tqdm(iterable, *args, **kwargs):\n",
    "        return iterable\n",
    "\n",
    "    \n",
    "def progress_wrapper(iterable, level, max_progress_level):\n",
    "    if level == 0:\n",
    "        return tqdm(iterable)\n",
    "    elif level <= max_progress_level:  # configurable\n",
    "        return tqdm(iterable, leave=False)\n",
    "    else:\n",
    "        return iterable\n",
    "    \n",
    "\n",
    "def compute_loss(time_points, predicted_metrics, true_metrics):\n",
    "    loss_sum = 0.0\n",
    "    # Iterace through infected, recovered and dead\n",
    "    for predicted, true in zip(predicted_metrics, true_metrics):\n",
    "        assert predicted.shape[0] == true.shape[0], \\\n",
    "        \"expected solution's size to be {}, but got {}\".format(true.shape[0], predicted.shape[0])\n",
    "        loss_sum += np.mean((true - predicted) ** 2)\n",
    "    return loss_sum\n",
    "\n",
    "\n",
    "def cut_metrics(metrics, from_idx, to_idx):\n",
    "    if to_idx is None:\n",
    "        return [x[from_idx:] for x in metrics]\n",
    "    else:\n",
    "        return [x[from_idx:to_idx] for x in metrics]\n",
    "\n",
    "\n",
    "def fit(ode_system_getter, time_points, params, to_metrics, true_metrics, max_progress_level=1, val_samples=0):\n",
    "    \"\"\"\n",
    "    ode_system_getter: функция, которая получает набор параметров из params и возвращает tuple,\n",
    "                       в котором первый элемент – функция, задающая систему уравнений\n",
    "                       (и принимающая только параметры y и t)\n",
    "                       и соответствующая аргументу func функции scipy.integrate.odeint,\n",
    "                       а второй элемент – вектор начальных условий y0 функции scipy.integrate.odeint\n",
    "    time_points: точки, для которых нужно решить систему уранений. Аналогично параметру t в scipy.integrate.odeint\n",
    "    params: список, в котором каждый i-тый элемент –\n",
    "            список возможных значений i-того параметра, передаваемого в ode_system_getter\n",
    "    to_metrics: функция, принимающая solution (результат функции scipy.integrate.odeint)\n",
    "                и отдающая список метрик, по которым будет производиться оценка параметров.\n",
    "                каждая метрика – одномерный numpy-массив значений\n",
    "    true_metrics: список метрик для данных, под которые мы подстраиваемся\n",
    "                  каждая метрика – одномерный numpy-массив значений\n",
    "    max_progress_level: глубина вложенных циклов, для которых будет отображаться progress-bar. Считается от 0.\n",
    "    val_samples: количество элементов, отсекаемых на валидацию.\n",
    "                 целое число означает количество элементов,\n",
    "                 дробное в интервале (0;1) – долю от общего числа элементов\n",
    "                  \n",
    "    \n",
    "    \"\"\"\n",
    "    \n",
    "    val_len = math.ceil(len(time_points)*val_samples) if val_samples < 1 else val_samples\n",
    "    train_len = len(time_points) - val_len\n",
    "    assert train_len > 0, 'Too big value for val_samples, no train samples left'\n",
    "    if val_len <= 0:\n",
    "        print('Too small value for val_samples, no validation loss will be computed', file=sys.stderr)\n",
    "    train_points = time_points[:train_len]\n",
    "    val_points = time_points[train_len:]\n",
    "    true_train = cut_metrics(true_metrics, 0, train_len)\n",
    "    true_val = cut_metrics(true_metrics, train_len, None)\n",
    "    \n",
    "    def fit_stage(left_params, current_values, level):\n",
    "        if left_params:\n",
    "            best_train_loss = None\n",
    "            best_val_loss = None\n",
    "            best_solution = None\n",
    "            best_params = None\n",
    "            for param_value in progress_wrapper(left_params[-1], level, max_progress_level):\n",
    "                new_values = current_values + (param_value,)\n",
    "                return_value = fit_stage(left_params[:-1], new_values, level+1)\n",
    "                if return_value is None:\n",
    "                    continue\n",
    "                train_loss, val_loss, solution, params_for_loss = return_value\n",
    "                if best_train_loss is None or best_train_loss > train_loss:\n",
    "                    best_train_loss = train_loss\n",
    "                    best_val_loss = val_loss\n",
    "                    best_solution = solution\n",
    "                    best_params = params_for_loss\n",
    "            return best_train_loss, best_val_loss, best_solution, best_params\n",
    "        else:\n",
    "            return_value = ode_system_getter(*list(reversed(current_values)))\n",
    "            if return_value is None:  # e.g. invalid parameters\n",
    "                return None\n",
    "            ode_system, initial_conditions = return_value\n",
    "            solution = odeint(ode_system, initial_conditions, time_points)\n",
    "            train_loss = compute_loss(train_points, cut_metrics(to_metrics(solution), 0, train_len), true_train)\n",
    "            if val_len > 0:\n",
    "                val_loss = compute_loss(val_points, cut_metrics(to_metrics(solution), train_len, None), true_val)\n",
    "            else:\n",
    "                val_loss = 0.0\n",
    "            return train_loss, val_loss, solution, current_values\n",
    "    \n",
    "    best_train_loss, val_loss, best_solution, best_params = fit_stage(params, tuple(), 0)\n",
    "    return best_train_loss, val_loss, best_solution, tuple(reversed(best_params))"
   ]
  },
  {
   "cell_type": "code",
   "execution_count": 7,
   "metadata": {},
   "outputs": [],
   "source": [
    "from matplotlib.backends.backend_pdf import PdfPages\n",
    "\n",
    "# Небольшая функция для быстрой отрисовки графичков, объединяющая реальные данные и смоделированные\n",
    "def plot_data_together(time_points, predicted_data, true_data, upper_limit, labels=None, \\\n",
    "                       filename='spain_pugachev_fix_30.pdf'):\n",
    "    colors = ['b', 'g', 'r', 'y', 'k', 'm']\n",
    "    if not labels:\n",
    "        labels = ['']*len(true_data)\n",
    "    susceptible, infected = true_data\n",
    "    \n",
    "    fig = plt.figure(figsize=(13,5))\n",
    "    plt.subplot(1,2,1)\n",
    "    for y_pred, y_true, color, label in zip(predicted_data, true_data, colors, labels):\n",
    "        plt.plot(time_points, y_true, color+'--', label=label+' (true)', alpha=0.7)\n",
    "        plt.plot(time_points, y_pred, color, label=label+' (pred)')\n",
    "        \n",
    "    plt.xlabel(\"Time (days)\")\n",
    "    plt.ylabel(\"Number of people\")\n",
    "    plt.legend()\n",
    "    plt.ylim([0, upper_limit])\n",
    "\n",
    "    #Same plot but on log scale\n",
    "    plt.subplot(1,2,2)\n",
    "    for y_pred, y_true, color, label in zip(predicted_data, true_data, colors, labels):\n",
    "        plt.plot(time_points, y_true, color+'--', label=label+' (true)', alpha=0.7)\n",
    "        plt.plot(time_points, y_pred, color, label=label+' (pred)')\n",
    "    plt.semilogy()\n",
    "    plt.xlabel(\"Time (days)\")\n",
    "    plt.ylabel(\"Number of people\")\n",
    "    plt.legend()\n",
    "    plt.ylim([1, upper_limit])\n",
    "    \n",
    "    pp = PdfPages(filename, keep_empty=False)\n",
    "    pp.savefig(fig)\n",
    "    pp.close()"
   ]
  },
  {
   "cell_type": "code",
   "execution_count": 16,
   "metadata": {
    "scrolled": true
   },
   "outputs": [
    {
     "name": "stdout",
     "output_type": "stream",
     "text": [
      "[1.00000000e-10 4.54877795e-10 2.06913808e-09 9.41204967e-09\n",
      " 4.28133240e-08 1.94748304e-07 8.85866790e-07 4.02961132e-06\n",
      " 1.83298071e-05 8.33782223e-05 3.79269019e-04 1.72521055e-03\n",
      " 7.84759970e-03 3.56969885e-02 1.62377674e-01 7.38619982e-01\n",
      " 3.35981829e+00 1.52830673e+01 6.95192796e+01 3.16227766e+02]\n"
     ]
    },
    {
     "data": {
      "text/plain": [
       "20"
      ]
     },
     "execution_count": 16,
     "metadata": {},
     "output_type": "execute_result"
    }
   ],
   "source": [
    "p = np.logspace(-10, 2.5, 20)\n",
    "print(p)\n",
    "len(p)"
   ]
  },
  {
   "cell_type": "code",
   "execution_count": 17,
   "metadata": {},
   "outputs": [],
   "source": [
    "import pandas as pd\n",
    "\n",
    "params = [\n",
    "    p, # alpha\n",
    "    p, # beta\n",
    "    p, # gamma\n",
    "    p, # delta\n",
    "    [0.25, 0.5, 0.75] # q\n",
    "]\n",
    "\n",
    "N = 46754658\n",
    "\n",
    "def func_getter(alpha, beta, gamma, delta, q):\n",
    "    \n",
    "    new_N = N * (1 - q)\n",
    "    \n",
    "    initial_conditions = np.zeros(4)\n",
    "    initial_conditions[0] = 0\n",
    "    #initial_conditions[1] = 100\n",
    "    initial_conditions[2] = 1\n",
    "    initial_conditions[0] = new_N - np.sum(initial_conditions)\n",
    "    \n",
    "    def ode_system(y,t):\n",
    "        \n",
    "        S, E, I, R = y\n",
    "        \n",
    "        dy=[0,0,0,0]\n",
    "        dy[0] = -beta * I * S / new_N - delta * E * S\n",
    "        dy[1] = beta * I * S / new_N - alpha * E + delta * E * S\n",
    "        dy[2] = alpha * E - gamma * I\n",
    "        dy[3] = gamma * I\n",
    "\n",
    "        return dy\n",
    "    \n",
    "    return ode_system, initial_conditions\n",
    "\n",
    "\n",
    "def solution_to_IRD(solution):\n",
    "    # Наши метрики: infected, recovered\n",
    "    infected = solution[:, 2]  \n",
    "    recovered = solution[:, 3]\n",
    "    return infected, recovered"
   ]
  },
  {
   "cell_type": "code",
   "execution_count": 18,
   "metadata": {},
   "outputs": [],
   "source": [
    "data = pd.read_csv('spain.csv')\n",
    "data = data[10:]\n",
    "\n",
    "infected = data['Заражений'] - (data['Выздоровлений'] + data['Смертей'])\n",
    "\n",
    "recovered = data['Выздоровлений']\n",
    "dead = data['Смертей']\n",
    "\n",
    "true_ird = (infected, recovered)\n",
    "time_points = np.arange(true_ird[0].shape[0]) "
   ]
  },
  {
   "cell_type": "code",
   "execution_count": 19,
   "metadata": {},
   "outputs": [
    {
     "data": {
      "application/vnd.jupyter.widget-view+json": {
       "model_id": "f32866c2d8e644abb8a35570038e0add",
       "version_major": 2,
       "version_minor": 0
      },
      "text/plain": [
       "HBox(children=(FloatProgress(value=0.0, max=3.0), HTML(value='')))"
      ]
     },
     "metadata": {},
     "output_type": "display_data"
    },
    {
     "data": {
      "application/vnd.jupyter.widget-view+json": {
       "model_id": "",
       "version_major": 2,
       "version_minor": 0
      },
      "text/plain": [
       "HBox(children=(FloatProgress(value=0.0, max=20.0), HTML(value='')))"
      ]
     },
     "metadata": {},
     "output_type": "display_data"
    },
    {
     "data": {
      "application/vnd.jupyter.widget-view+json": {
       "model_id": "",
       "version_major": 2,
       "version_minor": 0
      },
      "text/plain": [
       "HBox(children=(FloatProgress(value=0.0, max=20.0), HTML(value='')))"
      ]
     },
     "metadata": {},
     "output_type": "display_data"
    },
    {
     "data": {
      "application/vnd.jupyter.widget-view+json": {
       "model_id": "",
       "version_major": 2,
       "version_minor": 0
      },
      "text/plain": [
       "HBox(children=(FloatProgress(value=0.0, max=20.0), HTML(value='')))"
      ]
     },
     "metadata": {},
     "output_type": "display_data"
    },
    {
     "name": "stdout",
     "output_type": "stream",
     "text": [
      "\n",
      "13724.18 86406.93 (0.00037926901907322537, 0.007847599703514624, 0.03569698846826077, 4.281332398719396e-08, 0.75)\n"
     ]
    }
   ],
   "source": [
    "train_loss, val_loss, best_solution, best_params = fit(\n",
    "    func_getter,\n",
    "    time_points,\n",
    "    params,\n",
    "    solution_to_IRD,\n",
    "    true_ird,\n",
    "    max_progress_level=1,\n",
    "    val_samples=30\n",
    ")\n",
    "print(round(np.sqrt(train_loss), 2), round(np.sqrt(val_loss), 2), best_params)"
   ]
  },
  {
   "cell_type": "code",
   "execution_count": 20,
   "metadata": {},
   "outputs": [
    {
     "data": {
      "image/png": "[encoded data removed]",
      "text/plain": [
       "<Figure size 936x360 with 2 Axes>"
      ]
     },
     "metadata": {
      "needs_background": "light"
     },
     "output_type": "display_data"
    }
   ],
   "source": [
    "plot_data_together(time_points, solution_to_IRD(best_solution), true_ird, 250000, \n",
    "                   labels=[\"Infected\", \"Recovered\"])"
   ]
  },
  {
   "cell_type": "code",
   "execution_count": null,
   "metadata": {},
   "outputs": [],
   "source": []
  }
 ],
 "metadata": {
  "kernelspec": {
   "display_name": "Python 3",
   "language": "python",
   "name": "python3"
  },
  "language_info": {
   "codemirror_mode": {
    "name": "ipython",
    "version": 3
   },
   "file_extension": ".py",
   "mimetype": "text/x-python",
   "name": "python",
   "nbconvert_exporter": "python",
   "pygments_lexer": "ipython3",
   "version": "3.6.8"
  }
 },
 "nbformat": 4,
 "nbformat_minor": 4
}
